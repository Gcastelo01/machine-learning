{
 "cells": [
  {
   "cell_type": "markdown",
   "metadata": {},
   "source": [
    "# Análise de Dados Aprendizado de Máquina - NBA\n",
    "\n",
    "_descrever objetivo do trabalho e etc_\n",
    "\n",
    "## Informações do Aluno:\n",
    "\n",
    "* Nome: Gabriel Castelo Branco Rocha Alencar Pinto\n",
    "* Matrícula: 2020006523\n"
   ]
  },
  {
   "cell_type": "markdown",
   "metadata": {},
   "source": [
    "## Aprendizado supervisionado\n",
    "\n"
   ]
  },
  {
   "cell_type": "code",
   "execution_count": 1,
   "metadata": {},
   "outputs": [
    {
     "name": "stderr",
     "output_type": "stream",
     "text": [
      "/tmp/ipykernel_14246/936430673.py:6: MatplotlibDeprecationWarning: The seaborn styles shipped by Matplotlib are deprecated since 3.6, as they no longer correspond to the styles shipped by seaborn. However, they will remain available as 'seaborn-v0_8-<style>'. Alternatively, directly use the seaborn API instead.\n",
      "  plt.style.use(\"seaborn\")\n"
     ]
    }
   ],
   "source": [
    "import pandas as pd\n",
    "import matplotlib.pyplot as plt\n",
    "import modules.supervisioned as sup\n",
    "import importlib\n",
    "\n",
    "plt.style.use(\"seaborn\")\n",
    "\n",
    "plt.rcParams['figure.figsize']  = (16, 10)\n",
    "plt.rcParams['axes.labelsize']  = 20\n",
    "plt.rcParams['axes.titlesize']  = 20\n",
    "plt.rcParams['legend.fontsize'] = 20\n",
    "plt.rcParams['xtick.labelsize'] = 20\n",
    "plt.rcParams['ytick.labelsize'] = 20\n",
    "plt.rcParams['lines.linewidth'] = 4\n",
    "\n",
    "\n",
    "def despine(ax=None):\n",
    "    if ax is None:\n",
    "        ax = plt.gca()\n",
    "        \n",
    "    ax.spines['right'].set_visible(False)\n",
    "    ax.spines['top'].set_visible(False)\n",
    "\n",
    "    ax.yaxis.set_ticks_position('left')\n",
    "    ax.xaxis.set_ticks_position('bottom')\n",
    "    \n",
    "%load_ext autoreload\n",
    "%autoreload 2"
   ]
  },
  {
   "cell_type": "code",
   "execution_count": 2,
   "metadata": {},
   "outputs": [],
   "source": [
    "df_treino = pd.read_csv(\"./data/nba_treino.csv\")\n",
    "df_treino.head()\n",
    "\n",
    "df_treino['TARGET_5Yrs'] = df_treino[\"TARGET_5Yrs\"].astype(bool)\n",
    "# df_treino.value_counts()"
   ]
  },
  {
   "cell_type": "code",
   "execution_count": 3,
   "metadata": {},
   "outputs": [],
   "source": [
    "df_teste = pd.read_csv(\"./data/nba_teste.csv\")\n",
    "df_teste.head()\n",
    "\n",
    "df_teste['TARGET_5Yrs'] = df_teste[\"TARGET_5Yrs\"].astype(bool)"
   ]
  },
  {
   "cell_type": "code",
   "execution_count": 4,
   "metadata": {},
   "outputs": [],
   "source": [
    "classifier = sup.KNNClassifier(df_treino, \"TARGET_5Yrs\", 5)\n",
    "\n",
    "classifier.train()"
   ]
  },
  {
   "cell_type": "code",
   "execution_count": 10,
   "metadata": {},
   "outputs": [
    {
     "name": "stdout",
     "output_type": "stream",
     "text": [
      "[(0, 38.88650151402154, False), (1, 41.264997273718556, False), (2, 9.158602513484254, False), (3, 18.116291011131395, True), (4, 42.760028063601645, True)]\n",
      "KNN do ponto 1072\n",
      "Vizinho 0: 38.88650151402154\n",
      "Vizinho 1: 41.264997273718556\n",
      "Vizinho 2: 9.158602513484254\n",
      "Vizinho 3: 18.116291011131395\n",
      "Vizinho 4: 42.760028063601645\n",
      "Classificação: False. Real: False\n"
     ]
    }
   ],
   "source": [
    "# classifier.print_point_info(1071)\n",
    "classifier.predict_point(df_teste.iloc[200])\n",
    "\n",
    "# pd.DataFrame(df_teste.iloc[0]).drop('TARGET_5Yrs')"
   ]
  }
 ],
 "metadata": {
  "kernelspec": {
   "display_name": "venv",
   "language": "python",
   "name": "python3"
  },
  "language_info": {
   "codemirror_mode": {
    "name": "ipython",
    "version": 3
   },
   "file_extension": ".py",
   "mimetype": "text/x-python",
   "name": "python",
   "nbconvert_exporter": "python",
   "pygments_lexer": "ipython3",
   "version": "3.8.10"
  }
 },
 "nbformat": 4,
 "nbformat_minor": 2
}
